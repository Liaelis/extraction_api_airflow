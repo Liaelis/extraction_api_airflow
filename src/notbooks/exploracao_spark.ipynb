{
 "cells": [
  {
   "cell_type": "code",
   "execution_count": 1,
   "metadata": {
    "collapsed": true,
    "ExecuteTime": {
     "end_time": "2023-08-14T13:34:02.255039754Z",
     "start_time": "2023-08-14T13:33:56.744869110Z"
    }
   },
   "outputs": [
    {
     "name": "stdout",
     "output_type": "stream",
     "text": [
      "Requirement already satisfied: pyspark==3.3.1 in /home/lia/Documents/airflow/venv/lib/python3.9/site-packages (3.3.1)\r\n",
      "Requirement already satisfied: py4j==0.10.9.5 in /home/lia/Documents/airflow/venv/lib/python3.9/site-packages (from pyspark==3.3.1) (0.10.9.5)\r\n",
      "\r\n",
      "\u001B[1m[\u001B[0m\u001B[34;49mnotice\u001B[0m\u001B[1;39;49m]\u001B[0m\u001B[39;49m A new release of pip is available: \u001B[0m\u001B[31;49m23.0.1\u001B[0m\u001B[39;49m -> \u001B[0m\u001B[32;49m23.2.1\u001B[0m\r\n",
      "\u001B[1m[\u001B[0m\u001B[34;49mnotice\u001B[0m\u001B[1;39;49m]\u001B[0m\u001B[39;49m To update, run: \u001B[0m\u001B[32;49mpip install --upgrade pip\u001B[0m\r\n",
      "Note: you may need to restart the kernel to use updated packages.\n"
     ]
    }
   ],
   "source": [
    "pip install pyspark==3.3.1"
   ]
  },
  {
   "cell_type": "code",
   "execution_count": 2,
   "outputs": [],
   "source": [
    "from pyspark.sql import SparkSession"
   ],
   "metadata": {
    "collapsed": false,
    "ExecuteTime": {
     "end_time": "2023-08-14T13:34:02.520210448Z",
     "start_time": "2023-08-14T13:34:02.259303845Z"
    }
   }
  },
  {
   "cell_type": "code",
   "execution_count": 2,
   "outputs": [],
   "source": [],
   "metadata": {
    "collapsed": false,
    "ExecuteTime": {
     "end_time": "2023-08-14T13:34:02.527586195Z",
     "start_time": "2023-08-14T13:34:02.524157105Z"
    }
   }
  },
  {
   "cell_type": "code",
   "execution_count": 3,
   "outputs": [
    {
     "name": "stdout",
     "output_type": "stream",
     "text": [
      "23/08/14 10:34:04 WARN Utils: Your hostname, lia-pc resolves to a loopback address: 127.0.1.1; using 192.168.0.250 instead (on interface enp6s0)\n",
      "23/08/14 10:34:04 WARN Utils: Set SPARK_LOCAL_IP if you need to bind to another address\n"
     ]
    },
    {
     "name": "stderr",
     "output_type": "stream",
     "text": [
      "Setting default log level to \"WARN\".\n",
      "To adjust logging level use sc.setLogLevel(newLevel). For SparkR, use setLogLevel(newLevel).\n"
     ]
    },
    {
     "name": "stdout",
     "output_type": "stream",
     "text": [
      "23/08/14 10:34:04 WARN NativeCodeLoader: Unable to load native-hadoop library for your platform... using builtin-java classes where applicable\n"
     ]
    }
   ],
   "source": [
    "spark = SparkSession\\\n",
    "    .builder\\\n",
    "    .appName(\"twitter_transformation\")\\\n",
    "    .getOrCreate()\n"
   ],
   "metadata": {
    "collapsed": false,
    "ExecuteTime": {
     "end_time": "2023-08-14T13:34:05.960059384Z",
     "start_time": "2023-08-14T13:34:02.532520038Z"
    }
   }
  },
  {
   "cell_type": "code",
   "execution_count": 4,
   "outputs": [],
   "source": [
    "df =spark.read.json(\"../../datalake/twitter_datascience\")"
   ],
   "metadata": {
    "collapsed": false,
    "ExecuteTime": {
     "end_time": "2023-08-14T13:34:09.378133905Z",
     "start_time": "2023-08-14T13:34:05.963030899Z"
    }
   }
  },
  {
   "cell_type": "code",
   "execution_count": 5,
   "outputs": [
    {
     "name": "stdout",
     "output_type": "stream",
     "text": [
      "+--------------------+--------------------+------------------+------------+\n",
      "|                data|            includes|              meta|extract_data|\n",
      "+--------------------+--------------------+------------------+------------+\n",
      "|[{25, 53, 2023-07...|{[{2023-07-17T16:...|{1234567890abcdef}|  2023-07-17|\n",
      "|[{3, 61, 2023-07-...|{[{2023-07-17T11:...|{1234567890abcdef}|  2023-07-17|\n",
      "|[{54, 46, 2023-07...|{[{2023-07-17T12:...|{1234567890abcdef}|  2023-07-17|\n",
      "|[{76, 50, 2023-07...|{[{2023-07-17T05:...|              null|  2023-07-17|\n",
      "|[{7, 60, 2023-07-...|{[{2023-07-17T06:...|{1234567890abcdef}|  2023-07-18|\n",
      "|[{49, 73, 2023-07...|{[{2023-07-17T20:...|{1234567890abcdef}|  2023-07-18|\n",
      "|[{89, 97, 2023-07...|{[{2023-07-17T14:...|              null|  2023-07-18|\n",
      "|[{1, 39, 2023-07-...|{[{2023-07-05T04:...|{1234567890abcdef}|  2023-07-05|\n",
      "|[{100, 26, 2023-0...|{[{2023-07-05T02:...|              null|  2023-07-05|\n",
      "|[{85, 40, 2023-07...|{[{2023-07-23T14:...|              null|  2023-07-23|\n",
      "|[{26, 72, 2023-07...|{[{2023-07-04T18:...|              null|  2023-07-04|\n",
      "|[{64, 64, 2023-07...|{[{2023-07-16T02:...|              null|  2023-07-16|\n",
      "|[{100, 8, 2023-07...|{[{2023-07-24T14:...|              null|  2023-07-24|\n",
      "+--------------------+--------------------+------------------+------------+\n",
      "\n"
     ]
    }
   ],
   "source": [
    "df.show()"
   ],
   "metadata": {
    "collapsed": false,
    "ExecuteTime": {
     "end_time": "2023-08-14T13:34:10.001164008Z",
     "start_time": "2023-08-14T13:34:09.381220736Z"
    }
   }
  },
  {
   "cell_type": "code",
   "execution_count": 6,
   "outputs": [
    {
     "name": "stdout",
     "output_type": "stream",
     "text": [
      "root\n",
      " |-- data: array (nullable = true)\n",
      " |    |-- element: struct (containsNull = true)\n",
      " |    |    |-- author_id: string (nullable = true)\n",
      " |    |    |-- conversation_id: string (nullable = true)\n",
      " |    |    |-- created_at: string (nullable = true)\n",
      " |    |    |-- edit_history_tweet_ids: array (nullable = true)\n",
      " |    |    |    |-- element: long (containsNull = true)\n",
      " |    |    |-- id: string (nullable = true)\n",
      " |    |    |-- in_reply_to_user_id: string (nullable = true)\n",
      " |    |    |-- lang: string (nullable = true)\n",
      " |    |    |-- public_metrics: struct (nullable = true)\n",
      " |    |    |    |-- like_count: long (nullable = true)\n",
      " |    |    |    |-- quote_count: long (nullable = true)\n",
      " |    |    |    |-- reply_count: long (nullable = true)\n",
      " |    |    |    |-- retweet_count: long (nullable = true)\n",
      " |    |    |-- text: string (nullable = true)\n",
      " |-- includes: struct (nullable = true)\n",
      " |    |-- users: array (nullable = true)\n",
      " |    |    |-- element: struct (containsNull = true)\n",
      " |    |    |    |-- created_at: string (nullable = true)\n",
      " |    |    |    |-- id: string (nullable = true)\n",
      " |    |    |    |-- name: string (nullable = true)\n",
      " |    |    |    |-- username: string (nullable = true)\n",
      " |-- meta: struct (nullable = true)\n",
      " |    |-- next_token: string (nullable = true)\n",
      " |-- extract_data: date (nullable = true)\n",
      "\n"
     ]
    }
   ],
   "source": [
    "df.printSchema()"
   ],
   "metadata": {
    "collapsed": false,
    "ExecuteTime": {
     "end_time": "2023-08-14T13:34:51.138424371Z",
     "start_time": "2023-08-14T13:34:51.096221312Z"
    }
   }
  },
  {
   "cell_type": "code",
   "execution_count": 7,
   "outputs": [],
   "source": [
    "from pyspark.sql import functions as f"
   ],
   "metadata": {
    "collapsed": false,
    "ExecuteTime": {
     "end_time": "2023-08-14T13:40:55.237928490Z",
     "start_time": "2023-08-14T13:40:55.204080695Z"
    }
   }
  },
  {
   "cell_type": "code",
   "execution_count": 8,
   "outputs": [
    {
     "name": "stdout",
     "output_type": "stream",
     "text": [
      "root\n",
      " |-- col: struct (nullable = true)\n",
      " |    |-- author_id: string (nullable = true)\n",
      " |    |-- conversation_id: string (nullable = true)\n",
      " |    |-- created_at: string (nullable = true)\n",
      " |    |-- edit_history_tweet_ids: array (nullable = true)\n",
      " |    |    |-- element: long (containsNull = true)\n",
      " |    |-- id: string (nullable = true)\n",
      " |    |-- in_reply_to_user_id: string (nullable = true)\n",
      " |    |-- lang: string (nullable = true)\n",
      " |    |-- public_metrics: struct (nullable = true)\n",
      " |    |    |-- like_count: long (nullable = true)\n",
      " |    |    |-- quote_count: long (nullable = true)\n",
      " |    |    |-- reply_count: long (nullable = true)\n",
      " |    |    |-- retweet_count: long (nullable = true)\n",
      " |    |-- text: string (nullable = true)\n",
      "\n"
     ]
    }
   ],
   "source": [
    "df.select(f.explode(\"data\")).printSchema()"
   ],
   "metadata": {
    "collapsed": false,
    "ExecuteTime": {
     "end_time": "2023-08-14T13:42:04.998094190Z",
     "start_time": "2023-08-14T13:42:04.927184279Z"
    }
   }
  },
  {
   "cell_type": "code",
   "execution_count": 9,
   "outputs": [
    {
     "name": "stdout",
     "output_type": "stream",
     "text": [
      "+--------------------+\n",
      "|                 col|\n",
      "+--------------------+\n",
      "|{25, 53, 2023-07-...|\n",
      "|{51, 41, 2023-07-...|\n",
      "|{18, 8, 2023-07-1...|\n",
      "|{2, 99, 2023-07-1...|\n",
      "|{81, 38, 2023-07-...|\n",
      "|{81, 19, 2023-07-...|\n",
      "|{16, 22, 2023-07-...|\n",
      "|{61, 13, 2023-07-...|\n",
      "|{69, 83, 2023-07-...|\n",
      "|{84, 97, 2023-07-...|\n",
      "|{3, 61, 2023-07-1...|\n",
      "|{9, 27, 2023-07-1...|\n",
      "|{71, 98, 2023-07-...|\n",
      "|{10, 81, 2023-07-...|\n",
      "|{68, 58, 2023-07-...|\n",
      "|{25, 6, 2023-07-1...|\n",
      "|{24, 52, 2023-07-...|\n",
      "|{5, 9, 2023-07-17...|\n",
      "|{42, 81, 2023-07-...|\n",
      "|{45, 42, 2023-07-...|\n",
      "+--------------------+\n",
      "only showing top 20 rows\n",
      "\n"
     ]
    }
   ],
   "source": [
    "df.select(f.explode(\"data\")).show()"
   ],
   "metadata": {
    "collapsed": false,
    "ExecuteTime": {
     "end_time": "2023-08-14T13:42:51.479654292Z",
     "start_time": "2023-08-14T13:42:51.153786912Z"
    }
   }
  },
  {
   "cell_type": "code",
   "execution_count": 10,
   "outputs": [
    {
     "name": "stdout",
     "output_type": "stream",
     "text": [
      "root\n",
      " |-- author_id: string (nullable = true)\n",
      " |-- conversation_id: string (nullable = true)\n",
      " |-- created_at: string (nullable = true)\n",
      " |-- id: string (nullable = true)\n",
      " |-- like_count: long (nullable = true)\n",
      " |-- quote_count: long (nullable = true)\n",
      " |-- reply_count: long (nullable = true)\n",
      " |-- retweet_count: long (nullable = true)\n",
      " |-- text: string (nullable = true)\n",
      "\n"
     ]
    }
   ],
   "source": [
    "#usando asterisco vc acessa tudo q esta dentro de public_metrics\n",
    "df.select(f.explode(\"data\").alias(\"tweets\"))\\\n",
    "    .select(\"tweets.author_id\", \"tweets.conversation_id\",\n",
    "        \"tweets.created_at\", \"tweets.id\",\n",
    "        \"tweets.public_metrics.*\", \"tweets.text\").printSchema()"
   ],
   "metadata": {
    "collapsed": false,
    "ExecuteTime": {
     "end_time": "2023-08-14T13:47:04.373472257Z",
     "start_time": "2023-08-14T13:47:04.288587945Z"
    }
   }
  },
  {
   "cell_type": "code",
   "execution_count": 11,
   "outputs": [],
   "source": [
    "tweet_df=df.select(f.explode(\"data\").alias(\"tweets\"))\\\n",
    "    .select(\"tweets.author_id\", \"tweets.conversation_id\",\n",
    "        \"tweets.created_at\", \"tweets.id\",\n",
    "        \"tweets.public_metrics.*\", \"tweets.text\")"
   ],
   "metadata": {
    "collapsed": false,
    "ExecuteTime": {
     "end_time": "2023-08-14T13:47:59.086172992Z",
     "start_time": "2023-08-14T13:47:59.025022356Z"
    }
   }
  },
  {
   "cell_type": "code",
   "execution_count": 13,
   "outputs": [
    {
     "name": "stdout",
     "output_type": "stream",
     "text": [
      "root\n",
      " |-- created_at: string (nullable = true)\n",
      " |-- id: string (nullable = true)\n",
      " |-- name: string (nullable = true)\n",
      " |-- username: string (nullable = true)\n",
      "\n"
     ]
    }
   ],
   "source": [
    "df.select(f.explode(\"includes.users\").alias(\"users\"))\\\n",
    "    .select(\"users.*\").printSchema()"
   ],
   "metadata": {
    "collapsed": false,
    "ExecuteTime": {
     "end_time": "2023-08-14T14:02:41.410974094Z",
     "start_time": "2023-08-14T14:02:41.376744610Z"
    }
   }
  },
  {
   "cell_type": "code",
   "execution_count": 14,
   "outputs": [
    {
     "name": "stdout",
     "output_type": "stream",
     "text": [
      "root\n",
      " |-- created_at: string (nullable = true)\n",
      " |-- id: string (nullable = true)\n",
      " |-- name: string (nullable = true)\n",
      " |-- username: string (nullable = true)\n",
      "\n"
     ]
    }
   ],
   "source": [
    "user_df =df.select(f.explode(\"includes.users\").alias(\"users\"))\\\n",
    "    .select(\"users.*\").printSchema()"
   ],
   "metadata": {
    "collapsed": false,
    "ExecuteTime": {
     "end_time": "2023-08-14T14:03:28.158470934Z",
     "start_time": "2023-08-14T14:03:28.121243035Z"
    }
   }
  },
  {
   "cell_type": "code",
   "execution_count": 16,
   "outputs": [],
   "source": [
    "user_df =df.select(f.explode(\"includes.users\").alias(\"users\"))\\\n",
    "    .select(\"users.*\")"
   ],
   "metadata": {
    "collapsed": false,
    "ExecuteTime": {
     "end_time": "2023-08-14T14:04:25.469161536Z",
     "start_time": "2023-08-14T14:04:25.005656349Z"
    }
   }
  },
  {
   "cell_type": "code",
   "execution_count": 17,
   "outputs": [
    {
     "name": "stdout",
     "output_type": "stream",
     "text": [
      "+--------------------+---+------+--------+\n",
      "|          created_at| id|  name|username|\n",
      "+--------------------+---+------+--------+\n",
      "|2023-07-17T16:04:...| 73|User 1|   user1|\n",
      "|2023-07-17T00:54:...| 73|User 2|   user2|\n",
      "|2023-07-17T00:37:...| 87|User 3|   user3|\n",
      "|2023-07-17T23:28:...| 68|User 4|   user4|\n",
      "|2023-07-17T10:26:...| 45|User 5|   user5|\n",
      "+--------------------+---+------+--------+\n",
      "only showing top 5 rows\n",
      "\n"
     ]
    }
   ],
   "source": [
    "user_df.show(5)"
   ],
   "metadata": {
    "collapsed": false,
    "ExecuteTime": {
     "end_time": "2023-08-14T14:04:35.918655297Z",
     "start_time": "2023-08-14T14:04:35.773654534Z"
    }
   }
  },
  {
   "cell_type": "code",
   "execution_count": 18,
   "outputs": [],
   "source": [
    "tweet_df.coalesce(1).write.mode(\"overwrite\").json('output/tweet')\n",
    "user_df.coalesce(1).write.mode(\"overwrite\").json('output/user')"
   ],
   "metadata": {
    "collapsed": false,
    "ExecuteTime": {
     "end_time": "2023-08-14T14:14:02.437332978Z",
     "start_time": "2023-08-14T14:14:01.785201133Z"
    }
   }
  },
  {
   "cell_type": "code",
   "execution_count": null,
   "outputs": [],
   "source": [],
   "metadata": {
    "collapsed": false
   }
  }
 ],
 "metadata": {
  "kernelspec": {
   "display_name": "Python 3",
   "language": "python",
   "name": "python3"
  },
  "language_info": {
   "codemirror_mode": {
    "name": "ipython",
    "version": 2
   },
   "file_extension": ".py",
   "mimetype": "text/x-python",
   "name": "python",
   "nbconvert_exporter": "python",
   "pygments_lexer": "ipython2",
   "version": "2.7.6"
  }
 },
 "nbformat": 4,
 "nbformat_minor": 0
}
